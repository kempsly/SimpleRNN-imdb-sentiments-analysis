{
 "cells": [
  {
   "cell_type": "code",
   "execution_count": 1,
   "metadata": {},
   "outputs": [
    {
     "name": "stdout",
     "output_type": "stream",
     "text": [
      "WARNING:tensorflow:From c:\\Users\\Kempsly\\Desktop\\Python-programming\\NLP-DeepLearning\\venv\\Lib\\site-packages\\keras\\src\\losses.py:2976: The name tf.losses.sparse_softmax_cross_entropy is deprecated. Please use tf.compat.v1.losses.sparse_softmax_cross_entropy instead.\n",
      "\n"
     ]
    }
   ],
   "source": [
    "# Step 1: Import Libraries and Load the Model\n",
    "import numpy as np\n",
    "import tensorflow as tf\n",
    "from tensorflow.keras.datasets import imdb\n",
    "from tensorflow.keras.preprocessing import sequence\n",
    "from tensorflow.keras.models import load_model"
   ]
  },
  {
   "cell_type": "code",
   "execution_count": 2,
   "metadata": {},
   "outputs": [],
   "source": [
    "\n",
    "# Load the IMDB dataset word index\n",
    "word_index = imdb.get_word_index()\n",
    "reverse_word_index = {value: key for key, value in word_index.items()}"
   ]
  },
  {
   "cell_type": "code",
   "execution_count": 3,
   "metadata": {},
   "outputs": [
    {
     "name": "stdout",
     "output_type": "stream",
     "text": [
      "WARNING:tensorflow:From c:\\Users\\Kempsly\\Desktop\\Python-programming\\NLP-DeepLearning\\venv\\Lib\\site-packages\\keras\\src\\backend.py:1398: The name tf.executing_eagerly_outside_functions is deprecated. Please use tf.compat.v1.executing_eagerly_outside_functions instead.\n",
      "\n",
      "Model: \"sequential\"\n",
      "_________________________________________________________________\n",
      " Layer (type)                Output Shape              Param #   \n",
      "=================================================================\n",
      " embedding (Embedding)       (None, 500, 128)          1280000   \n",
      "                                                                 \n",
      " simple_rnn (SimpleRNN)      (None, 128)               32896     \n",
      "                                                                 \n",
      " dense (Dense)               (None, 1)                 129       \n",
      "                                                                 \n",
      "=================================================================\n",
      "Total params: 1313025 (5.01 MB)\n",
      "Trainable params: 1313025 (5.01 MB)\n",
      "Non-trainable params: 0 (0.00 Byte)\n",
      "_________________________________________________________________\n"
     ]
    }
   ],
   "source": [
    "# Load the pre-trained model with ReLU activation\n",
    "model = load_model('simple_rnn_imdb.h5')\n",
    "model.summary()"
   ]
  },
  {
   "cell_type": "code",
   "execution_count": 4,
   "metadata": {},
   "outputs": [
    {
     "data": {
      "text/plain": [
       "[array([[-5.2977335e-02,  2.5795788e-02, -3.2376125e-02, ...,\n",
       "         -4.0818319e-02, -6.7335621e-02, -3.8745716e-02],\n",
       "        [-2.7059784e-02,  1.2193329e-02, -5.2689113e-02, ...,\n",
       "          4.5338450e-03, -3.6179133e-02, -5.1954456e-05],\n",
       "        [-3.3282422e-02, -4.1059460e-02, -2.8996443e-02, ...,\n",
       "          7.4259186e-04,  1.8552084e-02, -5.9478026e-02],\n",
       "        ...,\n",
       "        [ 7.6222867e-02,  1.3686722e-02, -2.9517278e-02, ...,\n",
       "         -8.2608916e-02, -6.4662598e-02,  5.6041749e-03],\n",
       "        [-3.7850052e-02, -4.4610586e-02,  3.3544008e-02, ...,\n",
       "          2.2625256e-02,  4.4362023e-02,  5.5474188e-02],\n",
       "        [ 8.4423855e-02,  6.1524481e-02,  3.6922544e-02, ...,\n",
       "          4.2671889e-02,  9.0871276e-03, -7.7781506e-02]], dtype=float32),\n",
       " array([[ 0.12677956, -0.07839283,  0.14951017, ..., -0.02837391,\n",
       "          0.00810305, -0.07194644],\n",
       "        [ 0.17004952,  0.01080087, -0.03505855, ..., -0.00849971,\n",
       "         -0.01092332, -0.07963824],\n",
       "        [ 0.16486824, -0.04412608,  0.09999849, ..., -0.00699766,\n",
       "         -0.0118953 , -0.11145   ],\n",
       "        ...,\n",
       "        [ 0.20091702, -0.13005686, -0.03565634, ...,  0.01753087,\n",
       "         -0.00071848,  0.00979739],\n",
       "        [-0.11536912,  0.0111318 , -0.12352348, ..., -0.04126555,\n",
       "          0.05979738, -0.1711554 ],\n",
       "        [-0.17994556,  0.06957842, -0.10581616, ...,  0.06959943,\n",
       "         -0.11550155,  0.13413885]], dtype=float32),\n",
       " array([[ 0.09043204, -0.10016522, -0.13755366, ..., -0.11240913,\n",
       "         -0.16079529,  0.07683405],\n",
       "        [-0.02781197, -0.01859153, -0.04924771, ..., -0.15962781,\n",
       "          0.06456925,  0.03426256],\n",
       "        [ 0.07316299,  0.07199958, -0.00069955, ..., -0.03933056,\n",
       "         -0.02135314, -0.03804135],\n",
       "        ...,\n",
       "        [ 0.01139997, -0.0864758 ,  0.06240264, ..., -0.10332908,\n",
       "         -0.08325347, -0.08476127],\n",
       "        [ 0.06426503,  0.01486708, -0.01052818, ...,  0.0104244 ,\n",
       "          0.04019016,  0.08242326],\n",
       "        [ 0.05916029, -0.02278639, -0.23476772, ..., -0.03765788,\n",
       "          0.10054418, -0.27350456]], dtype=float32),\n",
       " array([-0.03049633, -0.03593421, -0.01074522, -0.02050012,  0.02812488,\n",
       "        -0.00547301, -0.01905842, -0.01297809, -0.02063752, -0.009033  ,\n",
       "        -0.00881677,  0.0059785 , -0.02098829,  0.03718107,  0.00630283,\n",
       "        -0.02349489, -0.01689696,  0.01000039, -0.01704651,  0.00413539,\n",
       "        -0.00646872, -0.05416036, -0.02723579,  0.00578718, -0.03383541,\n",
       "        -0.00021858, -0.02657164, -0.02450691, -0.03812123, -0.00552617,\n",
       "         0.01391207, -0.04946801, -0.01824329, -0.03523337, -0.01407014,\n",
       "         0.0042962 ,  0.01866092, -0.01328679,  0.0407648 ,  0.00018178,\n",
       "         0.04917828, -0.0061073 , -0.0321773 , -0.02526544,  0.03641532,\n",
       "        -0.02908107, -0.0140793 , -0.02859644, -0.02065666, -0.02703442,\n",
       "        -0.01372063, -0.03144913, -0.01461502, -0.01076352, -0.04028586,\n",
       "        -0.02295974, -0.01820275, -0.03679733,  0.0255203 , -0.02826247,\n",
       "        -0.06351583, -0.00780154,  0.03207564, -0.01169581,  0.03985618,\n",
       "        -0.00965427,  0.00215574, -0.02307155, -0.01282407, -0.02277462,\n",
       "        -0.00010295, -0.04445366,  0.03443902, -0.00589336,  0.00746819,\n",
       "        -0.02646712,  0.00572681, -0.00467363, -0.03244555,  0.06326468,\n",
       "        -0.01078572, -0.00699506,  0.037198  ,  0.01571135, -0.03720543,\n",
       "        -0.05224811, -0.03458818,  0.01145327, -0.02197733,  0.00984351,\n",
       "         0.00948433, -0.02391159, -0.05890151, -0.01788115, -0.02198152,\n",
       "        -0.01552076,  0.02136605,  0.03394327, -0.01692069,  0.02246737,\n",
       "         0.04144305, -0.01113605, -0.02892852, -0.03139364, -0.01383751,\n",
       "         0.01505789,  0.00101346, -0.04255419, -0.00459483,  0.00274215,\n",
       "        -0.01532268, -0.01631657,  0.01184934, -0.0070658 , -0.01339431,\n",
       "         0.08827835, -0.00188945, -0.03196706,  0.0165965 , -0.00492987,\n",
       "        -0.02941587, -0.02027618, -0.05624532, -0.00633641, -0.00812584,\n",
       "        -0.00399882, -0.05045566, -0.03151971], dtype=float32),\n",
       " array([[-0.1089282 ],\n",
       "        [ 0.00885396],\n",
       "        [ 0.01009658],\n",
       "        [-0.1120109 ],\n",
       "        [-0.1100602 ],\n",
       "        [-0.143387  ],\n",
       "        [-0.21679427],\n",
       "        [-0.20100324],\n",
       "        [-0.2537209 ],\n",
       "        [ 0.03077382],\n",
       "        [-0.03267041],\n",
       "        [ 0.14397302],\n",
       "        [-0.4165011 ],\n",
       "        [ 0.13906896],\n",
       "        [ 0.07825641],\n",
       "        [ 0.01596929],\n",
       "        [ 0.08591335],\n",
       "        [ 0.06205559],\n",
       "        [-0.04928686],\n",
       "        [ 0.16944697],\n",
       "        [ 0.5296716 ],\n",
       "        [-0.0210977 ],\n",
       "        [-0.08090789],\n",
       "        [-0.06894889],\n",
       "        [ 0.1387344 ],\n",
       "        [ 0.12314318],\n",
       "        [-0.19912463],\n",
       "        [-0.01189248],\n",
       "        [-0.23658022],\n",
       "        [ 0.14478184],\n",
       "        [-0.21005824],\n",
       "        [-0.23491989],\n",
       "        [-0.09677698],\n",
       "        [-0.0494374 ],\n",
       "        [ 0.0494848 ],\n",
       "        [ 0.04018881],\n",
       "        [-0.37604612],\n",
       "        [-0.02864241],\n",
       "        [-0.47697246],\n",
       "        [-0.1484429 ],\n",
       "        [-0.37521714],\n",
       "        [ 0.27770594],\n",
       "        [ 0.09562729],\n",
       "        [-0.29672295],\n",
       "        [-0.25096536],\n",
       "        [-0.12170672],\n",
       "        [-0.00157775],\n",
       "        [-0.37854376],\n",
       "        [-0.3332429 ],\n",
       "        [ 0.04825061],\n",
       "        [-0.22099057],\n",
       "        [ 0.19377431],\n",
       "        [-0.09841696],\n",
       "        [-0.01743237],\n",
       "        [-0.13327575],\n",
       "        [ 0.08721772],\n",
       "        [ 0.14084849],\n",
       "        [-0.00146465],\n",
       "        [-0.18236902],\n",
       "        [ 0.14091271],\n",
       "        [-0.09255655],\n",
       "        [ 0.19200557],\n",
       "        [ 0.20964602],\n",
       "        [ 0.26045653],\n",
       "        [ 0.3778313 ],\n",
       "        [ 0.06742531],\n",
       "        [-0.17016836],\n",
       "        [-0.06097097],\n",
       "        [ 0.06144788],\n",
       "        [ 0.08527064],\n",
       "        [ 0.2644803 ],\n",
       "        [-0.13653255],\n",
       "        [-0.18221167],\n",
       "        [-0.14435658],\n",
       "        [ 0.24493514],\n",
       "        [ 0.22705221],\n",
       "        [ 0.13181007],\n",
       "        [ 0.6310437 ],\n",
       "        [ 0.01373887],\n",
       "        [-0.04034187],\n",
       "        [-0.02085525],\n",
       "        [ 0.24430315],\n",
       "        [ 0.5294522 ],\n",
       "        [-0.1664574 ],\n",
       "        [ 0.3697803 ],\n",
       "        [-0.3340392 ],\n",
       "        [ 0.04809268],\n",
       "        [-0.19848737],\n",
       "        [-0.22720672],\n",
       "        [-0.31586573],\n",
       "        [ 0.04210326],\n",
       "        [-0.22072527],\n",
       "        [-0.15340593],\n",
       "        [-0.10737416],\n",
       "        [-0.07879578],\n",
       "        [-0.01735269],\n",
       "        [ 0.26668417],\n",
       "        [-0.1744356 ],\n",
       "        [-0.10985588],\n",
       "        [-0.41347957],\n",
       "        [-0.30971164],\n",
       "        [-0.06476463],\n",
       "        [-0.17157362],\n",
       "        [-0.0731044 ],\n",
       "        [ 0.27414483],\n",
       "        [-0.196638  ],\n",
       "        [ 0.07446799],\n",
       "        [ 0.02974207],\n",
       "        [ 0.2797691 ],\n",
       "        [ 0.02901765],\n",
       "        [ 0.22673078],\n",
       "        [ 0.17945646],\n",
       "        [ 0.33372685],\n",
       "        [ 0.15523112],\n",
       "        [ 0.03585843],\n",
       "        [ 0.13906416],\n",
       "        [ 0.27527192],\n",
       "        [-0.03710382],\n",
       "        [ 0.4262725 ],\n",
       "        [ 0.40833148],\n",
       "        [ 0.2059962 ],\n",
       "        [-0.03933362],\n",
       "        [-0.11235734],\n",
       "        [ 0.03420152],\n",
       "        [-0.10912923],\n",
       "        [ 0.2024254 ],\n",
       "        [-0.06070542],\n",
       "        [ 0.25619078]], dtype=float32),\n",
       " array([0.08525018], dtype=float32)]"
      ]
     },
     "execution_count": 4,
     "metadata": {},
     "output_type": "execute_result"
    }
   ],
   "source": [
    "model.get_weights()"
   ]
  },
  {
   "cell_type": "code",
   "execution_count": 5,
   "metadata": {},
   "outputs": [],
   "source": [
    "# Step 2: Helper Functions\n",
    "# Function to decode reviews\n",
    "def decode_review(encoded_review):\n",
    "    return ' '.join([reverse_word_index.get(i - 3, '?') for i in encoded_review])\n",
    "\n",
    "# Function to preprocess user input\n",
    "def preprocess_text(text):\n",
    "    words = text.lower().split()\n",
    "    encoded_review = [word_index.get(word, 2) + 3 for word in words]\n",
    "    padded_review = sequence.pad_sequences([encoded_review], maxlen=500)\n",
    "    return padded_review"
   ]
  },
  {
   "cell_type": "markdown",
   "metadata": {},
   "source": [
    "### Step 2: Helper Functions\n",
    "\n",
    "1. **Function to Decode Reviews**\n",
    "   ```python\n",
    "   def decode_review(encoded_review):\n",
    "       return ' '.join([reverse_word_index.get(i - 3, '?') for i in encoded_review])\n",
    "   ```\n",
    "\n",
    "   **Explanation**:\n",
    "   - **Purpose**: This function converts a sequence of integers (representing an encoded review) back into a human-readable string of words.\n",
    "   - **How it works**:\n",
    "     - The function takes an `encoded_review`, which is a list of integers.\n",
    "     - It iterates through each integer `i` in the `encoded_review`.\n",
    "     - **`i - 3`**: Adjusts the integer index by subtracting 3, accounting for special tokens reserved in the dataset (like padding, start, or unknown tokens).\n",
    "     - **`reverse_word_index.get(i - 3, '?')`**: Looks up the word corresponding to the adjusted index. If the index doesn't exist in `reverse_word_index`, it returns `'?'`.\n",
    "     - The decoded words are then joined into a single string using `' '.join([...])` and returned.\n",
    "\n",
    "2. **Function to Preprocess User Input**\n",
    "   ```python\n",
    "   def preprocess_text(text):\n",
    "       words = text.lower().split()\n",
    "       encoded_review = [word_index.get(word, 2) + 3 for word in words]\n",
    "       padded_review = sequence.pad_sequences([encoded_review], maxlen=500)\n",
    "       return padded_review\n",
    "   ```\n",
    "\n",
    "   **Explanation**:\n",
    "   - **Purpose**: This function converts a user-provided string of text into a format suitable for input into a neural network (such as for sentiment analysis).\n",
    "   - **How it works**:\n",
    "     - **Lowercase and Split**: The input `text` is converted to lowercase and split into individual words using `split()`.\n",
    "     - **Encode Words**: Each word is then converted to its corresponding integer index using `word_index.get(word, 2) + 3`. \n",
    "       - **`word_index.get(word, 2)`**: Retrieves the index of the word from `word_index`. If the word isn’t found, it assigns it the index `2`, which usually stands for \"unknown\" or \"OOV\" (out of vocabulary).\n",
    "       - **`+3`**: Offsets the index to match the same adjustment used in the decoding process.\n",
    "     - **Padding**: The list of encoded indices is padded using `sequence.pad_sequences` to a fixed length (`maxlen=500`), ensuring that all reviews have the same length regardless of their original size.\n",
    "     - The padded sequence is then returned, ready for use in a model.\n",
    "\n",
    "### Summary:\n",
    "- **`decode_review`** converts an encoded review back to a readable string.\n",
    "- **`preprocess_text`** transforms raw text input into a numerical format that the model can process, ensuring uniform input size.\n",
    "\n",
    "These helper functions are essential for preparing and interpreting data when working with models in natural language processing (NLP)."
   ]
  },
  {
   "cell_type": "code",
   "execution_count": 6,
   "metadata": {},
   "outputs": [],
   "source": [
    "### Prediction  function\n",
    "\n",
    "def predict_sentiment(review):\n",
    "    preprocessed_input=preprocess_text(review)\n",
    "\n",
    "    prediction=model.predict(preprocessed_input)\n",
    "\n",
    "    sentiment = 'Positive' if prediction[0][0] > 0.5 else 'Negative'\n",
    "    \n",
    "    return sentiment, prediction[0][0]\n",
    "\n"
   ]
  },
  {
   "cell_type": "code",
   "execution_count": 7,
   "metadata": {},
   "outputs": [
    {
     "name": "stdout",
     "output_type": "stream",
     "text": [
      "1/1 [==============================] - 1s 1s/step\n",
      "Review: This movie was fantastic! The acting was great and the plot was thrilling.\n",
      "Sentiment: Positive\n",
      "Prediction Score: 0.8901410698890686\n"
     ]
    }
   ],
   "source": [
    "# Step 4: User Input and Prediction\n",
    "# Example review for prediction\n",
    "example_review = \"This movie was fantastic! The acting was great and the plot was thrilling.\"\n",
    "\n",
    "sentiment,score=predict_sentiment(example_review)\n",
    "\n",
    "print(f'Review: {example_review}')\n",
    "print(f'Sentiment: {sentiment}')\n",
    "print(f'Prediction Score: {score}')"
   ]
  },
  {
   "cell_type": "code",
   "execution_count": 8,
   "metadata": {},
   "outputs": [
    {
     "name": "stdout",
     "output_type": "stream",
     "text": [
      "c:\\Users\\Kempsly\\Desktop\\Python-programming\\NLP-DeepLearning\\SimpleRNN\n"
     ]
    }
   ],
   "source": [
    "import os\n",
    "print(os.getcwd())\n"
   ]
  },
  {
   "cell_type": "code",
   "execution_count": 9,
   "metadata": {},
   "outputs": [
    {
     "name": "stdout",
     "output_type": "stream",
     "text": [
      "Model file found.\n"
     ]
    }
   ],
   "source": [
    "import os\n",
    "\n",
    "# Check if the model file exists\n",
    "file_path = \"simple_rnn_imdb.h5\"\n",
    "if os.path.isfile(file_path):\n",
    "    print(\"Model file found.\")\n",
    "else:\n",
    "    print(\"Model file not found.\")\n"
   ]
  },
  {
   "cell_type": "code",
   "execution_count": null,
   "metadata": {},
   "outputs": [],
   "source": []
  },
  {
   "cell_type": "code",
   "execution_count": null,
   "metadata": {},
   "outputs": [],
   "source": []
  }
 ],
 "metadata": {
  "kernelspec": {
   "display_name": "Python 3",
   "language": "python",
   "name": "python3"
  },
  "language_info": {
   "codemirror_mode": {
    "name": "ipython",
    "version": 3
   },
   "file_extension": ".py",
   "mimetype": "text/x-python",
   "name": "python",
   "nbconvert_exporter": "python",
   "pygments_lexer": "ipython3",
   "version": "3.11.0"
  }
 },
 "nbformat": 4,
 "nbformat_minor": 2
}
